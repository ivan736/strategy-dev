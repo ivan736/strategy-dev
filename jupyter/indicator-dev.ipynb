{
 "cells": [
  {
   "cell_type": "code",
   "execution_count": 1,
   "id": "beb2aece-cb87-49e5-9979-f13f2105d407",
   "metadata": {},
   "outputs": [],
   "source": [
    "import datetime\n",
    "import backtrader as bt\n",
    "import backtrader.feeds as btfeeds\n",
    "import backtrader.indicators as btind\n",
    "import backtrader.analyzers as btanalyzers\n",
    "\n",
    "# My data\n",
    "class MyWebData(btfeeds.GenericCSVData):\n",
    "    params = (\n",
    "        ('fromdate', datetime.datetime(2020, 11, 1)),\n",
    "        ('todate', datetime.datetime(2020, 11, 30)),\n",
    "        ('timeframe', bt.dataseries.TimeFrame.Minutes) , \n",
    "        \n",
    "        ('nullvalue', 0.0),\n",
    "        ('dtformat', ('%Y/%m/%d')),\n",
    "        ('tmformat', ('%H:%M:%S')),\n",
    "        \n",
    "        ('datetime', 0),\n",
    "        ('time', 1),\n",
    "        ('high', 3),\n",
    "        ('low', 4),\n",
    "        ('open', 2),\n",
    "        ('close', 5),\n",
    "        ('volume', 6),\n",
    "        ('openinterest', -1)\n",
    "        \n",
    "    )\n",
    "\n",
    "data = MyWebData(dataname='../data/website/TXF20110101_20201231.csv')"
   ]
  },
  {
   "cell_type": "code",
   "execution_count": 2,
   "id": "fa9b5764-bcfb-4e34-a480-6ce1dd80fb0b",
   "metadata": {},
   "outputs": [],
   "source": [
    "def create_cerebro(s):\n",
    "    # Create a cerebro entity\n",
    "    cerebro = bt.Cerebro()\n",
    "\n",
    "    # Add a strategy\n",
    "    # cerebro.addstrategy(MyStrategy, period=90)\n",
    "    cerebro.addstrategy(s)\n",
    "\n",
    "    # Add the Data Feed to Cerebro\n",
    "    # cerebro.adddata(data)\n",
    "    cerebro.resampledata(data, timeframe=bt.dataseries.TimeFrame.Minutes, compression=5)\n",
    "\n",
    "    # Set our desired cash start\n",
    "    cerebro.broker.setcash(100000.0)\n",
    "\n",
    "    # set sizer\n",
    "    cerebro.addsizer(bt.sizers.SizerFix, stake=3)\n",
    "\n",
    "    # Print out the starting conditions\n",
    "    print(\"Starting Portfolio Value: %.2f\" % cerebro.broker.getvalue())\n",
    "\n",
    "    cerebro.addanalyzer(btanalyzers.DrawDown, _name=\"DrawDown\")\n",
    "    cerebro.addanalyzer(btanalyzers.TradeAnalyzer, _name=\"TradeAnalyzer\")\n",
    "    cerebro.addanalyzer(btanalyzers.Transactions, _name=\"Transactions\")\n",
    "    \n",
    "    cerebro.broker.setcommission(commission=2.0, margin=800)\n",
    "\n",
    "    return cerebro"
   ]
  },
  {
   "cell_type": "code",
   "execution_count": 3,
   "id": "87597e46-2cb5-4d2d-80d2-e46d8a3c5e43",
   "metadata": {
    "tags": []
   },
   "outputs": [],
   "source": [
    "import datetime\n",
    "\n",
    "import backtrader as bt\n",
    "import backtrader.analyzers as btanalyzers\n",
    "import backtrader.indicators as btind\n",
    "\n",
    "\n",
    "class MeanAverageBaseIndicator(bt.Indicator):\n",
    "    params = (('value', 5),)\n",
    "    \n",
    "    def __init__(self) -> None:\n",
    "        self.movav5 = btind.SimpleMovingAverage(self.data, period=5)\n",
    "        self.movav10 = btind.SimpleMovingAverage(self.data, period=10)\n",
    "        self.movav20 = btind.SimpleMovingAverage(self.data, period=20)\n",
    "        self.movav60 = btind.SimpleMovingAverage(self.data, period=60)\n",
    "\n",
    "class LongArrange(MeanAverageBaseIndicator):\n",
    "    lines = ('arrange',)\n",
    "    def __init__(self) -> None:\n",
    "        super().__init__()\n",
    "        self.a1 = self.movav5 > self.movav10\n",
    "        self.a2 = self.movav10 > self.movav20\n",
    "        self.a3 = self.movav10 > self.movav60\n",
    "        \n",
    "        self.c1 = bt.And(self.a1, self.a2)\n",
    "        self.c2 = bt.And(self.a2, self.a3)\n",
    "        \n",
    "        self.lines.arrange = bt.And(self.c1, self.c2)\n",
    "\n",
    "class ShortArrange(MeanAverageBaseIndicator):\n",
    "    lines = ('arrange',)\n",
    "    def __init__(self) -> None:\n",
    "        super().__init__()\n",
    "        self.a1 = self.movav5 <= self.movav10\n",
    "        self.a2 = self.movav10 <= self.movav20\n",
    "        self.a3 = self.movav10 <= self.movav60\n",
    "        \n",
    "        self.c1 = bt.And(self.a1, self.a2)\n",
    "        self.c2 = bt.And(self.a2, self.a3)\n",
    "        \n",
    "        self.lines.arrange = bt.And(self.c1, self.c2)\n",
    "\n",
    "class ShortCrossLong(MeanAverageBaseIndicator):\n",
    "    lines = ('cross', )\n",
    "\n",
    "    def __init__(self) -> None:\n",
    "        super().__init__()\n",
    "        self.long_arrange = LongArrange()\n",
    "\n",
    "    def next(self) -> None:\n",
    "        over_ma5 = self.data.close[0] > self.movav5[0]\n",
    "        # print(f'Indicator: {over_ma5} close:{self.data.close[0]} ma5:{self.movav5[0]}')\n",
    "        self.lines.cross[0] = over_ma5 and self.long_arrange[0]\n",
    "        # print(f'Signal: {self.lines.cross[0]}')\n",
    "\n",
    "class BaseStrategy(bt.Strategy):\n",
    "    # only ma across\n",
    "    params = dict(period=20, stake=1, onlylong=True)\n",
    "\n",
    "    def __init__(self):\n",
    "        self.buy_signal = ShortCrossLong()\n",
    "        self.sell_signal = ShortCrossLong()\n",
    "\n",
    "    def log(self, txt, dt=None):\n",
    "        \"\"\"Logging function for this strategy\"\"\"\n",
    "        dt = dt or f\"{self.datas[0].datetime.date(0)} {self.datas[0].datetime.time(0)}\"\n",
    "        print(f\"{dt}\\tTxt:{txt}\")\n",
    "\n",
    "    def next(self):\n",
    "\n",
    "        # if self.signal > 0.0:  # cross upwards\n",
    "        if self.signal:  # cross upwards\n",
    "            if self.position:\n",
    "                # self.log('CLOSE SHORT , %.2f' % self.data.close[0])\n",
    "                self.close()\n",
    "\n",
    "            # self.log(\"BUY CREATE , %.2f\" % self.data.close[0])\n",
    "            self.buy(size=self.p.stake)\n",
    "\n",
    "        # elif self.signal < 0.0:\n",
    "        else:\n",
    "            if self.position:\n",
    "                # self.log(\"CLOSE LONG , %.2f\" % self.data.close[0])\n",
    "                self.close()\n",
    "\n",
    "            if not self.p.onlylong:\n",
    "                # self.log(\"SELL CREATE , %.2f\" % self.data.close[0])\n",
    "                self.sell(size=self.p.stake)\n",
    "\n",
    "class ArrangeStrategy(BaseStrategy):\n",
    "    params = dict(period=20, stake=1, onlylong=True)\n",
    "\n",
    "    def __init__(self):\n",
    "        self.s1 = ShortCrossLong()\n",
    "        self.s2 = LongArrange()\n",
    "        self.signal = bt.And(self.s1, self.s2)"
   ]
  },
  {
   "cell_type": "code",
   "execution_count": 4,
   "id": "4d19d3a9-4d8c-4864-8da7-340098ecb0bd",
   "metadata": {},
   "outputs": [
    {
     "name": "stdout",
     "output_type": "stream",
     "text": [
      "Starting Portfolio Value: 100000.00\n",
      "Final Portfolio Value: 96814.00\n",
      "Spent: 0:01:09.665986\n"
     ]
    }
   ],
   "source": [
    "start = datetime.datetime.now()\n",
    "\n",
    "c = create_cerebro(ArrangeStrategy)\n",
    "r = c.run()\n",
    "\n",
    "# Print out the final result\n",
    "print(\"Final Portfolio Value: %.2f\" % c.broker.getvalue())\n",
    "print(f'Spent: {datetime.datetime.now() - start}')"
   ]
  },
  {
   "cell_type": "code",
   "execution_count": 5,
   "id": "aa838c96-e693-4df9-92e4-95fdd5112bd5",
   "metadata": {},
   "outputs": [
    {
     "name": "stdout",
     "output_type": "stream",
     "text": [
      "Spent: 0:01:09.671819\n"
     ]
    }
   ],
   "source": [
    "print(f'Spent: {datetime.datetime.now() - start}')\n"
   ]
  },
  {
   "cell_type": "code",
   "execution_count": 7,
   "id": "3615ea9a-330b-4adf-aa70-8ea0a8389d1a",
   "metadata": {},
   "outputs": [
    {
     "data": {
      "text/plain": [
       "96814.0"
      ]
     },
     "execution_count": 7,
     "metadata": {},
     "output_type": "execute_result"
    }
   ],
   "source": [
    "c.broker.getvalue()\n",
    "# r.analyzers.TradeAnalyzer.get_analysis()"
   ]
  },
  {
   "cell_type": "code",
   "execution_count": 99,
   "id": "78397045-30d5-45bb-9190-defa15c86095",
   "metadata": {
    "tags": []
   },
   "outputs": [
    {
     "name": "stdout",
     "output_type": "stream",
     "text": [
      "Starting Portfolio Value: 100000.00\n",
      "Final Portfolio Value: 91288.00\n",
      "Spent: 0:04:30.749720\n",
      "Starting Portfolio Value: 100000.00\n",
      "Final Portfolio Value: 104522.00\n",
      "Spent: 0:04:56.724747\n"
     ]
    }
   ],
   "source": [
    "start = datetime.datetime.now()\n",
    "\n",
    "c1 = create_cerebro(BaseStrategy)\n",
    "r1 = c1.run()\n",
    "\n",
    "# Print out the final result\n",
    "print(\"Final Portfolio Value: %.2f\" % c1.broker.getvalue())\n",
    "\n",
    "print(f'Spent: {datetime.datetime.now() - start}')\n",
    "\n",
    "start = datetime.datetime.now()\n",
    "\n",
    "c2 = create_cerebro(ArrangeStrategy)\n",
    "r2 = c2.run()\n",
    "\n",
    "# Print out the final result\n",
    "print(\"Final Portfolio Value: %.2f\" % c2.broker.getvalue())\n",
    "\n",
    "print(f'Spent: {datetime.datetime.now() - start}')"
   ]
  },
  {
   "cell_type": "code",
   "execution_count": null,
   "id": "abd6b581-a212-4f33-9c5a-e7051957df45",
   "metadata": {
    "tags": []
   },
   "outputs": [],
   "source": [
    "r1[0].analyzers.TradeAnalyzer.get_analysis()"
   ]
  },
  {
   "cell_type": "code",
   "execution_count": null,
   "id": "86dab61c-54f1-4f1f-afeb-93da083a86e1",
   "metadata": {},
   "outputs": [],
   "source": [
    "r2[0].analyzers.TradeAnalyzer.get_analysis()"
   ]
  }
 ],
 "metadata": {
  "kernelspec": {
   "display_name": "change-object-0MK-JGv6",
   "language": "python",
   "name": "python3"
  },
  "language_info": {
   "codemirror_mode": {
    "name": "ipython",
    "version": 3
   },
   "file_extension": ".py",
   "mimetype": "text/x-python",
   "name": "python",
   "nbconvert_exporter": "python",
   "pygments_lexer": "ipython3",
   "version": "3.8.13 (default, Aug 24 2022, 21:24:22) \n[GCC 9.4.0]"
  },
  "vscode": {
   "interpreter": {
    "hash": "02ad4a2185f7e85829d4922b9d49bd3ba7462e279b6217e6cad88b5ebaf9f321"
   }
  }
 },
 "nbformat": 4,
 "nbformat_minor": 5
}
